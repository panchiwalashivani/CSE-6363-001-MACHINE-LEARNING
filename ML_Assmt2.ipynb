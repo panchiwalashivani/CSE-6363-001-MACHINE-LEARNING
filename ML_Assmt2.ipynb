{
 "cells": [
  {
   "cell_type": "code",
   "execution_count": 1,
   "metadata": {},
   "outputs": [],
   "source": [
    "import numpy as np\n",
    "import matplotlib.pyplot as plt\n",
    "\n",
    "# create Layer class\n",
    "class Layer:\n",
    "\n",
    "    # intialize variables in class\n",
    "    def __init__(self):\n",
    "        self.input  = None\n",
    "        self.output = None\n",
    "        \n",
    "    def feed_forward(self, input):\n",
    "        pass      \n",
    "    def backpropagation(self, op_error, alpha):\n",
    "        pass"
   ]
  },
  {
   "cell_type": "code",
   "execution_count": 2,
   "metadata": {},
   "outputs": [],
   "source": [
    "class LinearLayer(Layer):\n",
    "    def __init__(self, ip_size, op_size, weights_size=0.5):\n",
    "        super().__init__()\n",
    "        \n",
    "   \n",
    "        if weights_size == None:\n",
    "            self.weights = np.zeros((ip_size,op_size))\n",
    "            self.bias = np.zeros((1,op_size))\n",
    "      \n",
    "        elif weights_size == 10:\n",
    "            self.weights = np.random.uniform(-10,10, size=(ip_size,op_size))\n",
    "            self.bias = np.random.uniform(1, op_size) \n",
    "    \n",
    "        elif weights_size == 0.5:\n",
    "            self.weights = np.random.rand(ip_size, op_size) - 0.5\n",
    "            self.bias = np.random.rand(1, op_size) - 0.5\n",
    "\n",
    "   \n",
    "    def feed_forward(self, ip_data):\n",
    "        self.input = ip_data\n",
    "        self.output = np.dot(self.input, self.weights) + self.bias\n",
    "        return self.output\n",
    "\n",
    "\n",
    "    def backpropagation(self, op_error, alpha):\n",
    "        ip_error = np.dot(op_error, self.weights.T)\n",
    "        weights_error = np.dot(self.input.T, op_error)\n",
    "        \n",
    "\n",
    "        self.weights -= alpha * weights_error\n",
    "        self.bias -= alpha * op_error\n",
    "        return ip_error"
   ]
  },
  {
   "cell_type": "code",
   "execution_count": 3,
   "metadata": {},
   "outputs": [],
   "source": [
    "class SigmoidLayer(Layer):\n",
    "    def __init__(self):\n",
    "        super().__init__()\n",
    "\n",
    "    def feed_forward(self, ip_data):\n",
    "        self.input = ip_data\n",
    "        self.output = 1 / (1 + np.exp(-self.input))\n",
    "        return self.output\n",
    "\n",
    "    def backpropagation(self, op_error, alpha):\n",
    "        return np.exp(-self.input) / ((1 + np.exp(-self.input)) ** 2) * op_error"
   ]
  },
  {
   "cell_type": "code",
   "execution_count": 4,
   "metadata": {},
   "outputs": [],
   "source": [
    "class HyperbolidTangentLayer(Layer):\n",
    "    def __init__(self):\n",
    "        super().__init__()\n",
    "\n",
    "    def feed_forward(self, ip_data):\n",
    "        self.input = ip_data\n",
    "        self.output = np.tanh(self.input)\n",
    "        return self.output\n",
    "\n",
    "    def backpropagation(self, op_error, alpha):\n",
    "        return (1 - np.tanh(self.input) ** 2) * op_error"
   ]
  },
  {
   "cell_type": "code",
   "execution_count": 5,
   "metadata": {},
   "outputs": [],
   "source": [
    "class SoftmaxLayer(Layer):\n",
    "    def __init__(self, ip_size):\n",
    "        super().__init__()\n",
    "        self.ip_size = ip_size\n",
    "    \n",
    "    def feed_forward(self, input):\n",
    "        self.input = input\n",
    "        tmp = np.exp(input)\n",
    "        self.output = tmp / np.sum(tmp)\n",
    "        return self.output\n",
    "    \n",
    "    def backpropagation(self, op_error, alpha):\n",
    "        ip_error = np.zeros(op_error.shape)\n",
    "        out = np.tile(self.output.T, self.ip_size)\n",
    "        return self.output * np.dot(op_error, np.identity(self.ip_size) - out)"
   ]
  },
  {
   "cell_type": "code",
   "execution_count": 6,
   "metadata": {},
   "outputs": [],
   "source": [
    "\n",
    "def mse(y_true, y_pred):\n",
    "    return np.mean(np.power(y_true - y_pred, 2))\n",
    "\n",
    "def mse_prime(y_true, y_pred):\n",
    "    return 2 * (y_pred - y_true) / y_true.size\n",
    "\n",
    "def sse(y_true, y_pred):\n",
    "    return 0.5 * np.sum(np.power(y_true - y_pred, 2))\n",
    "\n",
    "def sse_prime(y_true, y_pred):\n",
    "    return y_pred - y_true\n",
    "\n",
    "def categorical_cross_entropy_loss(target, predictions):\n",
    "    return -np.sum(target * np.log(predictions))\n",
    "\n",
    "def categorical_cross_entropy_grad(target, predictions):\n",
    "    return predictions - target"
   ]
  },
  {
   "cell_type": "code",
   "execution_count": 7,
   "metadata": {},
   "outputs": [],
   "source": [
    "class Network:\n",
    "    def __init__(self):\n",
    "        self.hidden_layers = []\n",
    "        self.loss = None\n",
    "        self.loss_prime = None\n",
    "        self.err = []\n",
    "\n",
    "\n",
    "    def add(self, layer):\n",
    "        self.hidden_layers.append(layer)\n",
    "\n",
    "    def use(self, loss, loss_prime):\n",
    "        self.loss = loss\n",
    "        self.loss_prime = loss_prime\n",
    "\n",
    "    def predict(self, ip_data, prob=False):\n",
    "        samples = len(ip_data)\n",
    "        result = []\n",
    "        y_pred = []\n",
    "\n",
    "\n",
    "        for i in range(samples):\n",
    "            output = ip_data[i]\n",
    "            for layer in self.hidden_layers:\n",
    "                output = layer.feed_forward(output)\n",
    "            result.append(output)\n",
    "        if prob:\n",
    "            return result\n",
    "            \n",
    "        if len(result[0][0])==1:\n",
    "            for i in result:\n",
    "                if abs(i[0][0]) >= 0.5:\n",
    "                    y_pred.append(1)\n",
    "                else:\n",
    "                    y_pred.append(0) \n",
    "            return np.array(y_pred)\n",
    "        for val in result:\n",
    "            y_pred.append(np.argmax(val[0], axis = 0))\n",
    "        return np.array(y_pred)\n",
    "\n",
    "\n",
    "    def fit(self, x_train, y_train, step_count, alpha):\n",
    "        samples = len(x_train)\n",
    "\n",
    "        for i in range(step_count):\n",
    "            err = 0\n",
    "            for j in range(samples):\n",
    "                output = x_train[j]\n",
    "                for layer in self.hidden_layers:\n",
    "                    output = layer.feed_forward(output)\n",
    "\n",
    "                err += self.loss(y_train[j], output)\n",
    "\n",
    "                error = self.loss_prime(y_train[j], output)\n",
    "                for layer in reversed(self.hidden_layers):\n",
    "                    error = layer.backpropagation(error, alpha)\n",
    " \n",
    "            err /= samples\n",
    "            self.err.append(err)\n",
    "\n",
    "            \n",
    "    def accuracy(self,y_pred, y_output):\n",
    "        return np.mean(y_pred == y_output)\n",
    "    \n",
    "    def plot(self, lr):\n",
    "        plt.figure(figsize=(15,5))\n",
    "        plt.plot(self.err, '--r')\n",
    "        plt.title(\"Loss vs Step Count (Alpha = {0})\".format(lr))\n",
    "        plt.xlabel(\"Step Count\")\n",
    "        plt.ylabel(\"loss\")\n",
    "        plt.show()"
   ]
  },
  {
   "cell_type": "code",
   "execution_count": 8,
   "metadata": {},
   "outputs": [],
   "source": [
    "x_train = np.array([[[0,0]], [[0,1]], [[1,0]], [[1,1]]])\n",
    "y_train = np.array([[[0]], [[1]], [[1]], [[0]]])"
   ]
  },
  {
   "cell_type": "code",
   "execution_count": 9,
   "metadata": {},
   "outputs": [
    {
     "data": {
      "image/png": "[encoded data removed]",
      "text/plain": [
       "<Figure size 1080x360 with 1 Axes>"
      ]
     },
     "metadata": {
      "needs_background": "light"
     },
     "output_type": "display_data"
    },
    {
     "name": "stdout",
     "output_type": "stream",
     "text": [
      "Accuracy : 100.0 %\n"
     ]
    }
   ],
   "source": [
    "xor_network = Network()\n",
    "xor_network.add(LinearLayer(2, 3, weights_size=0.5))\n",
    "xor_network.add(HyperbolidTangentLayer())\n",
    "xor_network.add(LinearLayer(3, 1, weights_size=0.5))\n",
    "xor_network.add(HyperbolidTangentLayer())\n",
    "\n",
    "xor_network.use(mse, mse_prime)\n",
    "lr = 0.01\n",
    "xor_network.fit(x_train, y_train, step_count=1500, alpha=lr)\n",
    "\n",
    "xor_network.plot(lr)\n",
    "\n",
    "y_pred= xor_network.predict(x_train)\n",
    "print(\"Accuracy :\", xor_network.accuracy(y_pred, y_train.reshape(1,-1)[0])*100,\"%\")"
   ]
  },
  {
   "cell_type": "code",
   "execution_count": 10,
   "metadata": {},
   "outputs": [
    {
     "name": "stdout",
     "output_type": "stream",
     "text": [
      "Accuracy for reloaded model : 100.0 %\n"
     ]
    }
   ],
   "source": [
    "import pickle\n",
    "\n",
    "with open('xor_network.pkl', 'wb') as output_file:\n",
    "    pickle.dump(xor_network, output_file, pickle.HIGHEST_PROTOCOL)\n",
    "\n",
    "with open('xor_network.pkl', 'rb') as input_file:\n",
    "    reloaded_model = pickle.load(input_file)\n",
    "\n",
    "y_pred = reloaded_model.predict(x_train)\n",
    "print(\"Accuracy for reloaded model :\", xor_network.accuracy(y_pred, y_train.reshape(1,-1)[0])*100,\"%\")"
   ]
  },
  {
   "cell_type": "code",
   "execution_count": 11,
   "metadata": {},
   "outputs": [],
   "source": [
    "def get_one_hot(targets, nb_classes):\n",
    "    res = np.eye(nb_classes)[np.array(targets).reshape(-1)]\n",
    "    return res.reshape(list(targets.shape)+[nb_classes])\n",
    "\n",
    "x_train = np.load('x_train.npy')\n",
    "y_train = np.load('y_train.npy')\n",
    "x_test = np.load('x_test.npy')\n",
    "y_test = np.load('y_test.npy')\n",
    "\n",
    "x_train = x_train.reshape(x_train.shape[0], 1, 28*28)\n",
    "x_train = x_train.astype('float32')\n",
    "x_train /= 255\n",
    "\n",
    "y_train =  get_one_hot(y_train.astype(int), 10)\n",
    "\n",
    "x_test = x_test.reshape(x_test.shape[0], 1, 28*28)\n",
    "x_test = x_test.astype('float32')\n",
    "x_test /= 255\n",
    "y_test =  get_one_hot(y_test.astype(int), 10)\n",
    "\n",
    "def testing_images(model, samples=10):\n",
    "    for test, true in zip(x_test[:samples], y_test[:samples]):\n",
    "        image = np.reshape(test, (28, 28))\n",
    "        plt.imshow(image, cmap='binary')\n",
    "        pred = model.predict(test)\n",
    "        idx_true = np.argmax(true)\n",
    "        plt.title('prediction: {0}, output: {1}'.format(pred[0], idx_true))\n",
    "        plt.show()"
   ]
  },
  {
   "cell_type": "code",
   "execution_count": 12,
   "metadata": {},
   "outputs": [
    {
     "data": {
      "image/png": "[encoded data removed]",
      "text/plain": [
       "<Figure size 1080x360 with 1 Axes>"
      ]
     },
     "metadata": {
      "needs_background": "light"
     },
     "output_type": "display_data"
    },
    {
     "name": "stdout",
     "output_type": "stream",
     "text": [
      "Accuracy For Model 1: (94.84) %\n"
     ]
    }
   ],
   "source": [
    "model_1 = Network()\n",
    "model_1.add(LinearLayer(28*28, 100, weights_size=0.5))     \n",
    "model_1.add(HyperbolidTangentLayer())\n",
    "model_1.add(LinearLayer(100, 10, weights_size=0.5)) \n",
    "model_1.add(SoftmaxLayer(10))\n",
    "\n",
    "model_1.use(categorical_cross_entropy_loss, categorical_cross_entropy_grad)\n",
    "lr = 0.1\n",
    "model_1.fit(x_train, y_train, step_count=5, alpha=lr)\n",
    "\n",
    "model_1.plot(lr)\n",
    "\n",
    "y_pred = model_1.predict(x_test)\n",
    "print(\"Accuracy For Model 1: ({0}) %\".format(round(model_1.accuracy(y_pred, np.argmax(y_test, axis = 1))*100,2)))"
   ]
  },
  {
   "cell_type": "code",
   "execution_count": 13,
   "metadata": {},
   "outputs": [
    {
     "data": {
      "image/png": "[encoded data removed]",
      "text/plain": [
       "<Figure size 1080x360 with 1 Axes>"
      ]
     },
     "metadata": {
      "needs_background": "light"
     },
     "output_type": "display_data"
    },
    {
     "name": "stdout",
     "output_type": "stream",
     "text": [
      "Accuracy For Model 2: (94.42) %\n"
     ]
    }
   ],
   "source": [
    "model_2 = Network()\n",
    "model_2.add(LinearLayer(28*28, 100, weights_size=0.5))     \n",
    "model_2.add(HyperbolidTangentLayer())\n",
    "model_2.add(LinearLayer(100, 50, weights_size=0.5))  \n",
    "model_2.add(HyperbolidTangentLayer())\n",
    "model_2.add(LinearLayer(50, 10, weights_size=0.5)) \n",
    "model_2.add(SoftmaxLayer(10))\n",
    "\n",
    "model_2.use(categorical_cross_entropy_loss, categorical_cross_entropy_grad)\n",
    "lr = 0.01\n",
    "model_2.fit(x_train, y_train, step_count=5, alpha=lr)\n",
    "\n",
    "model_2.plot(lr)\n",
    "\n",
    "y_pred = model_2.predict(x_test)\n",
    "print(\"Accuracy For Model 2: ({0}) %\".format(round(model_2.accuracy(y_pred, np.argmax(y_test, axis = 1))*100,2)))"
   ]
  },
  {
   "cell_type": "code",
   "execution_count": null,
   "metadata": {},
   "outputs": [],
   "source": [
    "model_3 = Network()\n",
    "model_3.add(LinearLayer(28*28, 100, weights_size=0.5))     \n",
    "model_3.add(HyperbolidTangentLayer())\n",
    "model_3.add(LinearLayer(100, 50, weights_size=0.5))  \n",
    "model_3.add(HyperbolidTangentLayer())\n",
    "model_3.add(LinearLayer(50, 30, weights_size=0.5))  \n",
    "model_3.add(HyperbolidTangentLayer())\n",
    "model_3.add(LinearLayer(30, 10, weights_size=0.5)) \n",
    "model_3.add(SoftmaxLayer(10))\n",
    "\n",
    "model_3.use(categorical_cross_entropy_loss, categorical_cross_entropy_grad)\n",
    "lr = 0.001\n",
    "model_3.fit(x_train, y_train, step_count=5, alpha=lr)\n",
    "\n",
    "model_3.plot(lr)\n",
    "\n",
    "y_pred = model_3.predict(x_test)\n",
    "print(\"Accuracy For Model 3: ({0}) %\".format(round(model_3.accuracy(y_pred, np.argmax(y_test, axis = 1))*100,2)))"
   ]
  },
  {
   "cell_type": "code",
   "execution_count": null,
   "metadata": {},
   "outputs": [],
   "source": [
    "exp_1 = Network()\n",
    "exp_1.add(LinearLayer(28*28, 100, weights_size=None))     \n",
    "exp_1.add(HyperbolidTangentLayer())\n",
    "exp_1.add(LinearLayer(100, 10, weights_size=None)) \n",
    "exp_1.add(SoftmaxLayer(10))\n",
    "\n",
    "exp_1.use(categorical_cross_entropy_loss, categorical_cross_entropy_grad)\n",
    "lr = 1\n",
    "exp_1.fit(x_train, y_train, step_count=5, alpha=lr)\n",
    "\n",
    "exp_1.plot(lr)\n",
    "\n",
    "y_pred = exp_1.predict(x_test)\n",
    "print(\"Accuracy For Experimental Model 1: ({0}) %\".format(round(exp_1.accuracy(y_pred, np.argmax(y_test, axis = 1))*100,2)))"
   ]
  },
  {
   "cell_type": "code",
   "execution_count": null,
   "metadata": {},
   "outputs": [],
   "source": [
    "exp_2 = Network()\n",
    "exp_2.add(LinearLayer(28*28, 100, weights_size=10))     \n",
    "exp_2.add(SigmoidLayer())\n",
    "exp_2.add(LinearLayer(100, 10, weights_size=10)) \n",
    "exp_2.add(SoftmaxLayer(10))\n",
    "\n",
    "exp_2.use(categorical_cross_entropy_loss, categorical_cross_entropy_grad)\n",
    "lr = 0.001\n",
    "exp_2.fit(x_train, y_train, step_count=5, alpha=lr)\n",
    "\n",
    "exp_2.plot(lr)\n",
    "\n",
    "y_pred = exp_2.predict(x_test)\n",
    "print(\"Accuracy For Experimental Model 2: ({0}) %\".format(round(exp_2.accuracy(y_pred, np.argmax(y_test, axis = 1))*100,2)))"
   ]
  },
  {
   "cell_type": "code",
   "execution_count": null,
   "metadata": {},
   "outputs": [],
   "source": []
  },
  {
   "cell_type": "code",
   "execution_count": null,
   "metadata": {},
   "outputs": [],
   "source": []
  },
  {
   "cell_type": "code",
   "execution_count": null,
   "metadata": {},
   "outputs": [],
   "source": []
  },
  {
   "cell_type": "code",
   "execution_count": null,
   "metadata": {},
   "outputs": [],
   "source": []
  },
  {
   "cell_type": "code",
   "execution_count": null,
   "metadata": {},
   "outputs": [],
   "source": []
  }
 ],
 "metadata": {
  "kernelspec": {
   "display_name": "Python 3",
   "language": "python",
   "name": "python3"
  },
  "language_info": {
   "codemirror_mode": {
    "name": "ipython",
    "version": 3
   },
   "file_extension": ".py",
   "mimetype": "text/x-python",
   "name": "python",
   "nbconvert_exporter": "python",
   "pygments_lexer": "ipython3",
   "version": "3.8.5"
  }
 },
 "nbformat": 4,
 "nbformat_minor": 4
}
